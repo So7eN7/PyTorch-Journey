{
 "cells": [
  {
   "cell_type": "code",
   "execution_count": 3,
   "id": "6b6a562c-4fc4-4fca-bd41-725ef866f86a",
   "metadata": {},
   "outputs": [],
   "source": [
    "import random\n",
    "import numpy as np\n",
    "import torch\n",
    "import torch.nn as nn\n",
    "import torch.nn.functional as F\n",
    "import torch.optim as optim\n",
    "import torch.utils.data as data\n",
    "import torchvision\n",
    "from torchvision.datasets import CIFAR10\n",
    "from torchvision import transforms\n",
    "import matplotlib.pyplot as plt\n",
    "from tqdm.notebook import tqdm\n",
    "from PIL import Image"
   ]
  },
  {
   "cell_type": "markdown",
   "id": "8b966d40-238a-4db0-886e-1ba4d5effaf0",
   "metadata": {},
   "source": [
    "# Setting up the Dataset & Workflow"
   ]
  },
  {
   "cell_type": "code",
   "execution_count": 4,
   "id": "8c677e7b-c83b-4d60-a80f-1e9b722d8d60",
   "metadata": {},
   "outputs": [
    {
     "name": "stdout",
     "output_type": "stream",
     "text": [
      "cuda:0\n"
     ]
    }
   ],
   "source": [
    "# Path to the folder where the datasets are/should be downloaded (e.g. MNIST)\n",
    "DATASET_PATH = \"./data\"\n",
    "# Path to the folder where the pretrained models are saved\n",
    "CHECKPOINT_PATH = \"./saved_models/CIFAR-10\"\n",
    "\n",
    "# Function for setting the seed\n",
    "def set_seed(seed):\n",
    "    random.seed(seed)\n",
    "    np.random.seed(seed)\n",
    "    torch.manual_seed(seed)\n",
    "    if torch.cuda.is_available():\n",
    "        torch.cuda.manual_seed(seed)\n",
    "        torch.cuda.manual_seed_all(seed)\n",
    "set_seed(42)\n",
    "\n",
    "# Ensure that all operations are deterministic on GPU (if used) for reproducibility\n",
    "torch.backends.cudnn.deterministic = True\n",
    "torch.backends.cudnn.benchmark = False\n",
    "\n",
    "device = torch.device(\"cuda:0\") if torch.cuda.is_available() else torch.device(\"cpu\")\n",
    "print(device)"
   ]
  },
  {
   "cell_type": "code",
   "execution_count": 14,
   "id": "447b635d-2a80-4a9f-9b0d-4c9c070e07d6",
   "metadata": {},
   "outputs": [
    {
     "name": "stdout",
     "output_type": "stream",
     "text": [
      "Files already downloaded and verified\n",
      "Data mean [0.49139968 0.48215841 0.44653091]\n",
      "Data std [0.24703223 0.24348513 0.26158784]\n"
     ]
    }
   ],
   "source": [
    "train_dataset = CIFAR10(root=DATASET_PATH, train=True, download=True)\n",
    "DATA_MEANS = (train_dataset.data / 255.0).mean(axis=(0,1,2))\n",
    "DATA_STD = (train_dataset.data / 255.0).std(axis=(0,1,2))\n",
    "print(\"Data mean\", DATA_MEANS)\n",
    "print(\"Data std\", DATA_STD)"
   ]
  },
  {
   "cell_type": "markdown",
   "id": "9d546109-ec94-4cbc-aa57-6f671680ba7d",
   "metadata": {},
   "source": [
    "# Transforms ---- Normalization"
   ]
  },
  {
   "cell_type": "code",
   "execution_count": 15,
   "id": "d829d684-995c-409a-8b1d-84093b1e185e",
   "metadata": {},
   "outputs": [],
   "source": [
    "test_transform = transforms.Compose([transforms.ToTensor(),\n",
    "                                     transforms.Normalize(DATA_MEANS, DATA_STD)\n",
    "                                     ])\n",
    "# For training, we add some augmentation. Networks are too powerful and would overfit.\n",
    "# Images are 32x32 hence the RandomResizedCrop((32,32)...)\n",
    "train_transform = transforms.Compose([transforms.RandomHorizontalFlip(),\n",
    "                                      transforms.RandomResizedCrop((32,32), scale=(0.8,1.0), ratio=(0.9,1.1)),\n",
    "                                      transforms.ToTensor(),\n",
    "                                      transforms.Normalize(DATA_MEANS, DATA_STD)\n",
    "                                     ])"
   ]
  },
  {
   "cell_type": "markdown",
   "id": "d18057d3-c072-4899-a2f0-1aaa7b3e479e",
   "metadata": {},
   "source": [
    "# Spliting Training & Validation datasets"
   ]
  },
  {
   "cell_type": "code",
   "execution_count": 21,
   "id": "356d103b-28dd-4b88-bc03-01467caa7dd4",
   "metadata": {},
   "outputs": [
    {
     "name": "stdout",
     "output_type": "stream",
     "text": [
      "Files already downloaded and verified\n",
      "Files already downloaded and verified\n",
      "Files already downloaded and verified\n"
     ]
    }
   ],
   "source": [
    "# Loading the training dataset. We need to split it into a training and validation part\n",
    "# We need to do a little trick because the validation set should not use the augmentation.\n",
    "train_dataset = CIFAR10(root=DATASET_PATH, train=True, transform=train_transform, download=True)\n",
    "val_dataset = CIFAR10(root=DATASET_PATH, train=True, transform=test_transform, download=True)\n",
    "set_seed(42)\n",
    "train_set, _ = torch.utils.data.random_split(train_dataset, [45000, 5000])\n",
    "set_seed(42)\n",
    "_, val_set = torch.utils.data.random_split(val_dataset, [45000, 5000])\n",
    "\n",
    "# Loading the test set\n",
    "test_set = CIFAR10(root=DATASET_PATH, train=False, transform=test_transform, download=True)\n",
    "\n",
    "# We define a set of data loaders that we can use for various purposes later.\n",
    "train_loader = data.DataLoader(train_set, batch_size=128, shuffle=True, drop_last=True, pin_memory=True, num_workers=4)\n",
    "val_loader = data.DataLoader(val_set, batch_size=128, shuffle=False, drop_last=False, num_workers=4)\n",
    "test_loader = data.DataLoader(test_set, batch_size=128, shuffle=False, drop_last=False, num_workers=4)\n",
    "\n",
    "classes = ('plane', 'car', 'bird', 'cat', 'deer', 'dog', 'frog', 'horse', 'ship', 'truck')"
   ]
  },
  {
   "cell_type": "markdown",
   "id": "3b836170-1280-42fe-8133-ac26cc68c349",
   "metadata": {},
   "source": [
    "# Veryfing our normalization"
   ]
  },
  {
   "cell_type": "code",
   "execution_count": 17,
   "id": "060909f1-49bd-4a0d-b9a7-a17533a41957",
   "metadata": {},
   "outputs": [
    {
     "name": "stdout",
     "output_type": "stream",
     "text": [
      "Batch mean tensor([0.0231, 0.0006, 0.0005])\n",
      "Batch std tensor([0.9865, 0.9849, 0.9868])\n"
     ]
    }
   ],
   "source": [
    "# The mean should be close to 0 and the standard deviation close to 1 for each channel\n",
    "imgs, labels = next(iter(train_loader))\n",
    "print(\"Batch mean\", imgs.mean(dim=[0,2,3]))\n",
    "print(\"Batch std\", imgs.std(dim=[0,2,3]))"
   ]
  },
  {
   "cell_type": "markdown",
   "id": "92c9bd4d-3481-41d7-a7be-54049505b6f3",
   "metadata": {},
   "source": [
    "# Checking our augmentation"
   ]
  },
  {
   "cell_type": "code",
   "execution_count": 25,
   "id": "49906378-18ae-4e2b-be26-cb00ac3c15c3",
   "metadata": {},
   "outputs": [
    {
     "data": {
      "image/png": "[encoded data removed]",
      "text/plain": [
       "<Figure size 800x800 with 1 Axes>"
      ]
     },
     "metadata": {},
     "output_type": "display_data"
    }
   ],
   "source": [
    "NUM_IMAGES = 4\n",
    "images = [train_dataset[idx][0] for idx in range(NUM_IMAGES)]\n",
    "orig_images = [Image.fromarray(train_dataset.data[idx]) for idx in range(NUM_IMAGES)]\n",
    "orig_images = [test_transform(img) for img in orig_images]\n",
    "\n",
    "img_grid = torchvision.utils.make_grid(torch.stack(images + orig_images, dim=0), nrow=4, normalize=True, pad_value=0.5)\n",
    "img_grid = img_grid.permute(1, 2, 0)\n",
    "\n",
    "plt.figure(figsize=(8,8))\n",
    "plt.title(\"Augmentation examples on CIFAR10\")\n",
    "plt.imshow(img_grid)\n",
    "plt.axis('off')\n",
    "plt.show()\n",
    "plt.close()"
   ]
  },
  {
   "cell_type": "markdown",
   "id": "df38490e-947b-4375-b781-b9bffa5609dd",
   "metadata": {},
   "source": [
    "# Making a Neural-Network\n",
    "## For this case we will be using a CNN"
   ]
  },
  {
   "cell_type": "code",
   "execution_count": 27,
   "id": "4b97ec28-3356-424a-8303-8c0bb374183f",
   "metadata": {},
   "outputs": [],
   "source": [
    "class CNN_CIFAR(nn.Module):\n",
    "    def __init__(self):\n",
    "        super(CNN_CIFAR, self).__init__()\n",
    "        self.conv1=nn.Conv2d(in_channels=3, out_channels=6, kernel_size=5)\n",
    "        self.pool=nn.MaxPool2d(2, 2)\n",
    "        self.conv2=nn.Conv2d(in_channels=6, out_channels=16, kernel_size=5)\n",
    "        self.fc1=nn.Linear(16*5*5, 120)\n",
    "        self.fc2=nn.Linear(120, 84)\n",
    "        self.fc3=nn.Linear(84, 10)\n",
    "        self.dropout=nn.Dropout(0.5)\n",
    "\n",
    "    def forward(self, x):\n",
    "        x = self.pool(F.relu(self.conv1(x)))\n",
    "        x = self.pool(F.relu(self.conv2(x)))\n",
    "        x = x.view(-1, 16*5*5)\n",
    "        x = F.relu(self.fc1(x))\n",
    "        x = self.dropout(x)\n",
    "        x = F.relu(self.fc2(x))\n",
    "        x = self.dropout(x)\n",
    "        x = self.fc3(x)\n",
    "        return x"
   ]
  },
  {
   "cell_type": "code",
   "execution_count": 28,
   "id": "8335702a-8012-410c-b231-5080b977db24",
   "metadata": {},
   "outputs": [
    {
     "name": "stdout",
     "output_type": "stream",
     "text": [
      "CNN_CIFAR(\n",
      "  (conv1): Conv2d(3, 6, kernel_size=(5, 5), stride=(1, 1))\n",
      "  (pool): MaxPool2d(kernel_size=2, stride=2, padding=0, dilation=1, ceil_mode=False)\n",
      "  (conv2): Conv2d(6, 16, kernel_size=(5, 5), stride=(1, 1))\n",
      "  (fc1): Linear(in_features=400, out_features=120, bias=True)\n",
      "  (fc2): Linear(in_features=120, out_features=84, bias=True)\n",
      "  (fc3): Linear(in_features=84, out_features=10, bias=True)\n",
      "  (dropout): Dropout(p=0.5, inplace=False)\n",
      ")\n"
     ]
    }
   ],
   "source": [
    "model = CNN_CIFAR().to(device)\n",
    "print(model)"
   ]
  },
  {
   "cell_type": "markdown",
   "id": "29558a0f-5190-4526-9ebb-b12b0d3f40a9",
   "metadata": {},
   "source": [
    "# Loss function and optimizer with a scheduler"
   ]
  },
  {
   "cell_type": "code",
   "execution_count": 30,
   "id": "bf760c5c-8b61-4c66-93bd-27f68dfc724a",
   "metadata": {},
   "outputs": [],
   "source": [
    "loss_fn = nn.CrossEntropyLoss()\n",
    "optimizer = optim.Adam(model.parameters(), lr=0.01)\n",
    "scheduler = torch.optim.lr_scheduler.StepLR(optimizer, step_size=5, gamma=0.1)"
   ]
  },
  {
   "cell_type": "code",
   "execution_count": 31,
   "id": "e4c619a7-5a50-4633-bd3f-6d212be23ac4",
   "metadata": {},
   "outputs": [],
   "source": [
    "def train_model(model, num_epochs=117):\n",
    "    train_loss=0.0\n",
    "    val_loss=0.0\n",
    "    val_loss_min = np.Inf\n",
    "    train_correct=0\n",
    "    val_correct=0\n",
    "\n",
    "    # For plotting purposes\n",
    "    loss_keeper={'train':[],'val':[]}\n",
    "    \n",
    "    # Training loop\n",
    "    for epoch in tqdm(range(num_epochs)):\n",
    "        for imgs, labels in train_loader:\n",
    "            model.train()\n",
    "            # Step 1: Move input data to device\n",
    "            imgs, labels = imgs.to(device), labels.to(device)\n",
    "            # Step 2: Run the model on the input data\n",
    "            output = model(imgs)\n",
    "            output = output.squeeze(dim=1) # Output is [Batch size, 1], but we want [Batch size]\n",
    "            # Step 3: Calculate the loss\n",
    "            loss = loss_fn(output, labels)\n",
    "            # Step 4: Perform backpropagation\n",
    "            # Before calculating the gradients, we need to ensure that they are all zero.\n",
    "            # The gradients would not be overwritten, but actually added to the existing ones.\n",
    "            optimizer.zero_grad()\n",
    "            # Perform backpropagation\n",
    "            loss.backward()\n",
    "            # Step 5: Update the parameters\n",
    "            optimizer.step()\n",
    "\n",
    "            #Tracking Loss and Accuracy\n",
    "            train_loss+=loss.item()\n",
    "            pred = output.argmax(dim=1, keepdim=True)\n",
    "            train_correct+=pred.eq(labels.view_as(pred)).sum().item()\n",
    "\n",
    "    # Validation loop\n",
    "        for imgs, labels in val_loader:\n",
    "            model.eval()\n",
    "            imgs, labels = imgs.to(device), labels.to(device)\n",
    "            output = model(imgs)\n",
    "            output = output.squeeze(dim=1)\n",
    "            loss = loss_fn(output, labels)\n",
    "            val_loss+=loss.item()\n",
    "            pred = output.argmax(dim=1, keepdim=True)\n",
    "            val_correct+=pred.eq(labels.view_as(pred)).sum().item()\n",
    "\n",
    "\n",
    "        train_loss = train_loss/len(train_loader)\n",
    "        val_loss = val_loss/len(val_loader)\n",
    "\n",
    "        loss_keeper['train'].append(train_loss)\n",
    "        loss_keeper['val'].append(val_loss)\n",
    "        \n",
    "        print(f\"\\nEpoch : {epoch+1}\\tTraining Loss : {train_loss}\\tValidation Loss : {val_loss}\")\n",
    "        if val_loss<=val_loss_min:\n",
    "            print(f\"Validation loss decreased from : {val_loss_min} ----> {val_loss} ----> Saving Model.......\")\n",
    "            model_name=type(model).__name__\n",
    "            torch.save(model.state_dict(), model_name+'_model.pth')\n",
    "            val_loss_min=val_loss\n",
    "    return(loss_keeper)"
   ]
  },
  {
   "cell_type": "code",
   "execution_count": 32,
   "id": "61a3d4c1-b94a-43fe-bab8-69836c3527ed",
   "metadata": {},
   "outputs": [
    {
     "data": {
      "application/vnd.jupyter.widget-view+json": {
       "model_id": "1fa6e51de5be423994595d7663364b3f",
       "version_major": 2,
       "version_minor": 0
      },
      "text/plain": [
       "  0%|          | 0/117 [00:00<?, ?it/s]"
      ]
     },
     "metadata": {},
     "output_type": "display_data"
    },
    {
     "name": "stdout",
     "output_type": "stream",
     "text": [
      "\n",
      "Epoch : 1\tTraining Loss : 2.0633219008432153\tValidation Loss : 1.9497616052627564\n",
      "Validation loss decreased from : inf ----> 1.9497616052627564 ----> Saving Model.......\n",
      "\n",
      "Epoch : 2\tTraining Loss : 1.9585044566056629\tValidation Loss : 1.9474863612651823\n",
      "Validation loss decreased from : 1.9497616052627564 ----> 1.9474863612651823 ----> Saving Model.......\n",
      "\n",
      "Epoch : 3\tTraining Loss : 1.9367238456886098\tValidation Loss : 1.8749967535436156\n",
      "Validation loss decreased from : 1.9474863612651823 ----> 1.8749967535436156 ----> Saving Model.......\n",
      "\n",
      "Epoch : 4\tTraining Loss : 1.9524800740571222\tValidation Loss : 1.8899589770041405\n",
      "\n",
      "Epoch : 5\tTraining Loss : 1.9293447203001324\tValidation Loss : 1.8897035568778775\n",
      "\n",
      "Epoch : 6\tTraining Loss : 1.9301214284555415\tValidation Loss : 1.8956785243000216\n",
      "\n",
      "Epoch : 7\tTraining Loss : 1.9455447659043212\tValidation Loss : 1.9084258318971734\n",
      "\n",
      "Epoch : 8\tTraining Loss : 1.951420759675042\tValidation Loss : 1.8894699996735433\n",
      "\n",
      "Epoch : 9\tTraining Loss : 1.9432258880362472\tValidation Loss : 1.8960299675316257\n",
      "\n",
      "Epoch : 10\tTraining Loss : 1.940324089204548\tValidation Loss : 1.9389181976135839\n",
      "\n",
      "Epoch : 11\tTraining Loss : 1.941385766779695\tValidation Loss : 1.9035828194136826\n",
      "\n",
      "Epoch : 12\tTraining Loss : 1.9516705271777586\tValidation Loss : 1.9136266978609449\n",
      "\n",
      "Epoch : 13\tTraining Loss : 1.9536920524382684\tValidation Loss : 1.9457105255922376\n",
      "\n",
      "Epoch : 14\tTraining Loss : 1.9465473950692462\tValidation Loss : 1.9219776835461473\n",
      "\n",
      "Epoch : 15\tTraining Loss : 1.9571933349145638\tValidation Loss : 1.9057063948274156\n",
      "\n",
      "Epoch : 16\tTraining Loss : 1.9674535176919774\tValidation Loss : 1.9555629250684394\n",
      "\n",
      "Epoch : 17\tTraining Loss : 1.964089780899242\tValidation Loss : 1.9356478893689288\n",
      "\n",
      "Epoch : 18\tTraining Loss : 1.9525838140234886\tValidation Loss : 1.8991465102730494\n",
      "\n",
      "Epoch : 19\tTraining Loss : 1.9456509165624565\tValidation Loss : 1.9207517165221233\n",
      "\n",
      "Epoch : 20\tTraining Loss : 1.9400984411714708\tValidation Loss : 1.8936671472049689\n",
      "\n",
      "Epoch : 21\tTraining Loss : 1.9713568997533908\tValidation Loss : 1.9991336953055285\n",
      "\n",
      "Epoch : 22\tTraining Loss : 1.9800340006019064\tValidation Loss : 1.9108889577076122\n",
      "\n",
      "Epoch : 23\tTraining Loss : 1.958628190568275\tValidation Loss : 1.9659539383582405\n",
      "\n",
      "Epoch : 24\tTraining Loss : 1.9681665371314845\tValidation Loss : 1.9177579579798683\n",
      "\n",
      "Epoch : 25\tTraining Loss : 1.9754388375019802\tValidation Loss : 1.9339486323248551\n",
      "\n",
      "Epoch : 26\tTraining Loss : 1.9611806258298665\tValidation Loss : 1.9255828439256828\n",
      "\n",
      "Epoch : 27\tTraining Loss : 1.9524262336880671\tValidation Loss : 1.9249935705936483\n",
      "\n",
      "Epoch : 28\tTraining Loss : 1.9444534463839402\tValidation Loss : 1.9315004213638018\n",
      "\n",
      "Epoch : 29\tTraining Loss : 1.9867248391615915\tValidation Loss : 1.9959008183677667\n",
      "\n",
      "Epoch : 30\tTraining Loss : 1.9623970013668697\tValidation Loss : 1.9169692533378793\n",
      "\n",
      "Epoch : 31\tTraining Loss : 1.9676635656549863\tValidation Loss : 2.0244605172106747\n",
      "\n",
      "Epoch : 32\tTraining Loss : 1.9823923023773267\tValidation Loss : 1.922431247503631\n",
      "\n",
      "Epoch : 33\tTraining Loss : 1.989015578859165\tValidation Loss : 1.9843925092883672\n",
      "\n",
      "Epoch : 34\tTraining Loss : 1.9858464169016397\tValidation Loss : 1.9481952753023997\n",
      "\n",
      "Epoch : 35\tTraining Loss : 1.9557952405854822\tValidation Loss : 1.944753037309539\n",
      "\n",
      "Epoch : 36\tTraining Loss : 1.9774923853050739\tValidation Loss : 1.9376263972723458\n",
      "\n",
      "Epoch : 37\tTraining Loss : 1.9877770750078754\tValidation Loss : 2.0062284448658523\n",
      "\n",
      "Epoch : 38\tTraining Loss : 2.0253438000915494\tValidation Loss : 2.0054460465384403\n",
      "\n",
      "Epoch : 39\tTraining Loss : 1.990848529442151\tValidation Loss : 1.947726299612405\n",
      "\n",
      "Epoch : 40\tTraining Loss : 1.9968816768412803\tValidation Loss : 1.9747868490777585\n",
      "\n",
      "Epoch : 41\tTraining Loss : 2.0021643131239135\tValidation Loss : 1.942271318317856\n",
      "\n",
      "Epoch : 42\tTraining Loss : 2.0055373280728936\tValidation Loss : 1.9869063398808593\n",
      "\n",
      "Epoch : 43\tTraining Loss : 2.040114295949478\tValidation Loss : 1.9954807085334518\n",
      "\n",
      "Epoch : 44\tTraining Loss : 1.9935097871356255\tValidation Loss : 1.9837032480104249\n",
      "\n",
      "Epoch : 45\tTraining Loss : 2.0111426169880584\tValidation Loss : 1.980869743036885\n",
      "\n",
      "Epoch : 46\tTraining Loss : 2.051397021015827\tValidation Loss : 2.036112641612879\n",
      "\n",
      "Epoch : 47\tTraining Loss : 2.0280305546103277\tValidation Loss : 2.0185547941754307\n",
      "\n",
      "Epoch : 48\tTraining Loss : 2.015519952955629\tValidation Loss : 2.0301702138628315\n",
      "\n",
      "Epoch : 49\tTraining Loss : 2.0280691924602974\tValidation Loss : 1.9938489529412133\n",
      "\n",
      "Epoch : 50\tTraining Loss : 2.023399107630241\tValidation Loss : 2.0265185364408325\n",
      "\n",
      "Epoch : 51\tTraining Loss : 2.0263343767364\tValidation Loss : 2.1665153849331613\n",
      "\n",
      "Epoch : 52\tTraining Loss : 2.0449138233679873\tValidation Loss : 2.021182830006401\n",
      "\n",
      "Epoch : 53\tTraining Loss : 2.0267427118612544\tValidation Loss : 1.9761758460320664\n",
      "\n",
      "Epoch : 54\tTraining Loss : 2.0549363360196646\tValidation Loss : 2.1833772018892508\n",
      "\n",
      "Epoch : 55\tTraining Loss : 2.0443016152734517\tValidation Loss : 2.1523129268371632\n",
      "\n",
      "Epoch : 56\tTraining Loss : 2.0354911041002657\tValidation Loss : 2.022216947187691\n",
      "\n",
      "Epoch : 57\tTraining Loss : 2.050875506835712\tValidation Loss : 2.0325780757096834\n",
      "\n",
      "Epoch : 58\tTraining Loss : 2.069327095187847\tValidation Loss : 2.0110364279345356\n",
      "\n",
      "Epoch : 59\tTraining Loss : 2.056031880156372\tValidation Loss : 2.04053288479943\n",
      "\n",
      "Epoch : 60\tTraining Loss : 2.0481348579351497\tValidation Loss : 2.004423893933569\n",
      "\n",
      "Epoch : 61\tTraining Loss : 2.079656129024088\tValidation Loss : 2.0562804231406515\n",
      "\n",
      "Epoch : 62\tTraining Loss : 2.0593715851942633\tValidation Loss : 2.080945099615458\n",
      "\n",
      "Epoch : 63\tTraining Loss : 2.100110771633802\tValidation Loss : 2.0933785817330928\n",
      "\n",
      "Epoch : 64\tTraining Loss : 2.0748345318750143\tValidation Loss : 2.0598140934638822\n",
      "\n",
      "Epoch : 65\tTraining Loss : 2.111776405098351\tValidation Loss : 2.0944214939562795\n",
      "\n",
      "Epoch : 66\tTraining Loss : 2.1165630275523966\tValidation Loss : 2.0897103455650017\n",
      "\n",
      "Epoch : 67\tTraining Loss : 2.0666206496208246\tValidation Loss : 2.045320009954242\n",
      "\n",
      "Epoch : 68\tTraining Loss : 2.0928696113822722\tValidation Loss : 2.129984866970963\n",
      "\n",
      "Epoch : 69\tTraining Loss : 2.1209586447001856\tValidation Loss : 2.1367444458453404\n",
      "\n",
      "Epoch : 70\tTraining Loss : 2.1381990521227876\tValidation Loss : 2.1299520181190186\n",
      "\n",
      "Epoch : 71\tTraining Loss : 2.138621785251581\tValidation Loss : 2.14734003108385\n",
      "\n",
      "Epoch : 72\tTraining Loss : 2.180718454478044\tValidation Loss : 2.182579927931637\n",
      "\n",
      "Epoch : 73\tTraining Loss : 2.227608729724185\tValidation Loss : 2.192791698706409\n",
      "\n",
      "Epoch : 74\tTraining Loss : 2.1961054687863517\tValidation Loss : 2.214525729376382\n",
      "\n",
      "Epoch : 75\tTraining Loss : 2.16518903115003\tValidation Loss : 2.2152081318189283\n",
      "\n",
      "Epoch : 76\tTraining Loss : 2.1359689935415958\tValidation Loss : 2.1738361735827962\n",
      "\n",
      "Epoch : 77\tTraining Loss : 2.1630911516623534\tValidation Loss : 2.170504902352113\n",
      "\n",
      "Epoch : 78\tTraining Loss : 2.1372298028528736\tValidation Loss : 2.1949563288328355\n",
      "\n",
      "Epoch : 79\tTraining Loss : 2.1465001303321105\tValidation Loss : 2.1734078592649033\n",
      "\n",
      "Epoch : 80\tTraining Loss : 2.152685861018752\tValidation Loss : 2.221278275714792\n",
      "\n",
      "Epoch : 81\tTraining Loss : 2.190167672897414\tValidation Loss : 2.3572951457318285\n",
      "\n",
      "Epoch : 82\tTraining Loss : 2.272097096505059\tValidation Loss : 2.239098712557099\n",
      "\n",
      "Epoch : 83\tTraining Loss : 2.1696895706961024\tValidation Loss : 2.17706770710035\n",
      "\n",
      "Epoch : 84\tTraining Loss : 2.1603791453187142\tValidation Loss : 2.2288465070257297\n",
      "\n",
      "Epoch : 85\tTraining Loss : 2.145979306902116\tValidation Loss : 2.1560235042560345\n",
      "\n",
      "Epoch : 86\tTraining Loss : 2.1619944936467417\tValidation Loss : 2.18815038805005\n",
      "\n",
      "Epoch : 87\tTraining Loss : 2.144836334525133\tValidation Loss : 2.157802396566867\n",
      "\n",
      "Epoch : 88\tTraining Loss : 2.137866684254244\tValidation Loss : 2.15699087812382\n",
      "\n",
      "Epoch : 89\tTraining Loss : 2.1543104884870607\tValidation Loss : 2.1656996516470803\n",
      "\n",
      "Epoch : 90\tTraining Loss : 2.1577284129590413\tValidation Loss : 2.1657209021550536\n",
      "\n",
      "Epoch : 91\tTraining Loss : 2.170227120685705\tValidation Loss : 2.22456785346742\n",
      "\n",
      "Epoch : 92\tTraining Loss : 2.158484983507521\tValidation Loss : 2.1723919501666415\n",
      "\n",
      "Epoch : 93\tTraining Loss : 2.1293992627382043\tValidation Loss : 2.1577319875130163\n",
      "\n",
      "Epoch : 94\tTraining Loss : 2.1543983797370196\tValidation Loss : 2.1732220465311634\n",
      "\n",
      "Epoch : 95\tTraining Loss : 2.1416595170584327\tValidation Loss : 2.1860598678747047\n",
      "\n",
      "Epoch : 96\tTraining Loss : 2.2420973588116393\tValidation Loss : 2.254439250517287\n",
      "\n",
      "Epoch : 97\tTraining Loss : 2.172106562802223\tValidation Loss : 2.20374961832882\n",
      "\n",
      "Epoch : 98\tTraining Loss : 2.157055026951534\tValidation Loss : 2.1790790071437067\n",
      "\n",
      "Epoch : 99\tTraining Loss : 2.141711416426386\tValidation Loss : 2.158890842175358\n",
      "\n",
      "Epoch : 100\tTraining Loss : 2.1545004642660213\tValidation Loss : 2.1924880653315753\n",
      "\n",
      "Epoch : 101\tTraining Loss : 2.139497282101064\tValidation Loss : 2.16953426875098\n",
      "\n",
      "Epoch : 102\tTraining Loss : 2.1432263250081327\tValidation Loss : 2.1812229112479646\n",
      "\n",
      "Epoch : 103\tTraining Loss : 2.1518093682068273\tValidation Loss : 2.172955697664851\n",
      "\n",
      "Epoch : 104\tTraining Loss : 2.144185537381938\tValidation Loss : 2.171683649865022\n",
      "\n",
      "Epoch : 105\tTraining Loss : 2.1686265862403658\tValidation Loss : 2.214986589070341\n",
      "\n",
      "Epoch : 106\tTraining Loss : 2.1678951854143214\tValidation Loss : 2.2001790708928355\n",
      "\n",
      "Epoch : 107\tTraining Loss : 2.2334438725059624\tValidation Loss : 2.2409222774372224\n",
      "\n",
      "Epoch : 108\tTraining Loss : 2.198966690324465\tValidation Loss : 2.2030926362987997\n",
      "\n",
      "Epoch : 109\tTraining Loss : 2.1587265025415276\tValidation Loss : 2.172693957428924\n",
      "\n",
      "Epoch : 110\tTraining Loss : 2.1792052703735942\tValidation Loss : 2.200788533427834\n",
      "\n",
      "Epoch : 111\tTraining Loss : 2.1841274872684404\tValidation Loss : 2.2183445045287042\n",
      "\n",
      "Epoch : 112\tTraining Loss : 2.183425172887541\tValidation Loss : 2.226350243262784\n",
      "\n",
      "Epoch : 113\tTraining Loss : 2.202452606581788\tValidation Loss : 2.2252639575643425\n",
      "\n",
      "Epoch : 114\tTraining Loss : 2.213395256451118\tValidation Loss : 2.2488533319131614\n",
      "\n",
      "Epoch : 115\tTraining Loss : 2.207061397097195\tValidation Loss : 2.247347024234871\n",
      "\n",
      "Epoch : 116\tTraining Loss : 2.2320567525323574\tValidation Loss : 2.2572941995450044\n",
      "\n",
      "Epoch : 117\tTraining Loss : 2.24167503153522\tValidation Loss : 2.306649238409569\n"
     ]
    }
   ],
   "source": [
    "m_loss = train_model(model)"
   ]
  },
  {
   "cell_type": "code",
   "execution_count": 33,
   "id": "59204614-5d51-41d3-84d4-ea6e0296db57",
   "metadata": {},
   "outputs": [
    {
     "name": "stderr",
     "output_type": "stream",
     "text": [
      "C:\\Users\\top\\AppData\\Local\\Temp\\ipykernel_12128\\3154970717.py:1: FutureWarning: You are using `torch.load` with `weights_only=False` (the current default value), which uses the default pickle module implicitly. It is possible to construct malicious pickle data which will execute arbitrary code during unpickling (See https://github.com/pytorch/pytorch/blob/main/SECURITY.md#untrusted-models for more details). In a future release, the default value for `weights_only` will be flipped to `True`. This limits the functions that could be executed during unpickling. Arbitrary objects will no longer be allowed to be loaded via this mode unless they are explicitly allowlisted by the user via `torch.serialization.add_safe_globals`. We recommend you start setting `weights_only=True` for any use case where you don't have full control of the loaded file. Please open an issue on GitHub for any issues related to this experimental feature.\n",
      "  model.load_state_dict(torch.load('CNN_CIFAR_model.pth'))\n"
     ]
    },
    {
     "data": {
      "text/plain": [
       "<All keys matched successfully>"
      ]
     },
     "execution_count": 33,
     "metadata": {},
     "output_type": "execute_result"
    }
   ],
   "source": [
    "model.load_state_dict(torch.load('CNN_CIFAR_model.pth'))"
   ]
  },
  {
   "cell_type": "code",
   "execution_count": 34,
   "id": "a6a5c673-e0f3-450b-b20a-9ab13dd6edee",
   "metadata": {},
   "outputs": [
    {
     "data": {
      "image/png": "[encoded data removed]",
      "text/plain": [
       "<Figure size 1000x500 with 1 Axes>"
      ]
     },
     "metadata": {},
     "output_type": "display_data"
    }
   ],
   "source": [
    "fig, ax=plt.subplots(figsize=(10,5))\n",
    "ax.plot(m_loss['train'], label=\"Training Loss\")\n",
    "ax.plot(m_loss['val'], label=\"Validation Loss\")\n",
    "ax.legend()\n",
    "plt.show()"
   ]
  },
  {
   "cell_type": "code",
   "execution_count": 47,
   "id": "694181ac-98ef-4669-9956-09d0d791df7d",
   "metadata": {},
   "outputs": [],
   "source": [
    "def test_model(model, device):\n",
    "    correct = 0\n",
    "    total = 0\n",
    "    model.to(device)\n",
    "    model.eval()\n",
    "    with torch.no_grad():\n",
    "        for imgs, labels in test_loader:\n",
    "            imgs, labels = imgs.to(device), labels.to(device)\n",
    "            outputs = model(imgs)\n",
    "            _, pred = torch.max(outputs.data, 1)\n",
    "            total += labels.size(0)\n",
    "            correct += (pred == labels).sum().item()\n",
    "\n",
    "    print(f'Accuracy of the network: {100 * correct / total:.2f}%')"
   ]
  },
  {
   "cell_type": "code",
   "execution_count": 48,
   "id": "c19506a5-fed9-450d-afec-8c1223a67900",
   "metadata": {},
   "outputs": [
    {
     "name": "stdout",
     "output_type": "stream",
     "text": [
      "Accuracy of the network: 31.19%\n"
     ]
    }
   ],
   "source": [
    "test_model(model, 'cpu')"
   ]
  },
  {
   "cell_type": "markdown",
   "id": "59432077-c2d4-4a0d-9d34-8f79f08156ca",
   "metadata": {},
   "source": [
    "# Pre-trained CNN (ResNet / GoogLeNet)"
   ]
  },
  {
   "cell_type": "code",
   "execution_count": null,
   "id": "a0177422-7ff6-433c-825d-bcf509034743",
   "metadata": {},
   "outputs": [],
   "source": [
    "from torchvision import models\n",
    "\n",
    "resnet = models.resnet18(pretrained=True)\n",
    "googlenet = models.googlenet(pretrained=True)"
   ]
  }
 ],
 "metadata": {
  "kernelspec": {
   "display_name": "Python 3 (ipykernel)",
   "language": "python",
   "name": "python3"
  },
  "language_info": {
   "codemirror_mode": {
    "name": "ipython",
    "version": 3
   },
   "file_extension": ".py",
   "mimetype": "text/x-python",
   "name": "python",
   "nbconvert_exporter": "python",
   "pygments_lexer": "ipython3",
   "version": "3.12.8"
  }
 },
 "nbformat": 4,
 "nbformat_minor": 5
}
