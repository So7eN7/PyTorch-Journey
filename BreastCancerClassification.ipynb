{
 "cells": [
  {
   "cell_type": "code",
   "execution_count": 2,
   "id": "b179dcdc-5366-4156-9c01-6a79c13cd36f",
   "metadata": {},
   "outputs": [],
   "source": [
    "import random\n",
    "import numpy as np\n",
    "import torch\n",
    "import torch.nn as nn\n",
    "import torch.nn.functional as F\n",
    "import torch.optim as optim\n",
    "import torch.utils.data as data\n",
    "import torchvision\n",
    "from torchvision import transforms\n",
    "import matplotlib.pyplot as plt\n",
    "from tqdm.notebook import tqdm\n",
    "from PIL import Image\n",
    "from sklearn.datasets import load_breast_cancer \n",
    "from sklearn.model_selection import train_test_split \n",
    "from sklearn.preprocessing import StandardScaler "
   ]
  },
  {
   "cell_type": "markdown",
   "id": "e9a82d31-ce3e-47e4-9d3b-54dc02a3a127",
   "metadata": {},
   "source": [
    "# Setting up the Dataset & Workflow"
   ]
  },
  {
   "cell_type": "code",
   "execution_count": 3,
   "id": "f1585c52-e1c9-4183-a378-fa85114aece9",
   "metadata": {},
   "outputs": [
    {
     "name": "stdout",
     "output_type": "stream",
     "text": [
      "cuda:0\n"
     ]
    }
   ],
   "source": [
    "# Path to the folder where the datasets are/should be downloaded (e.g. MNIST)\n",
    "DATASET_PATH = \"./data\"\n",
    "\n",
    "# Function for setting the seed\n",
    "def set_seed(seed):\n",
    "    random.seed(seed)\n",
    "    np.random.seed(seed)\n",
    "    torch.manual_seed(seed)\n",
    "    if torch.cuda.is_available():\n",
    "        torch.cuda.manual_seed(seed)\n",
    "        torch.cuda.manual_seed_all(seed)\n",
    "set_seed(42)\n",
    "\n",
    "# Ensure that all operations are deterministic on GPU (if used) for reproducibility\n",
    "torch.backends.cudnn.deterministic = True\n",
    "torch.backends.cudnn.benchmark = False\n",
    "\n",
    "device = torch.device(\"cuda:0\") if torch.cuda.is_available() else torch.device(\"cpu\")\n",
    "print(device)"
   ]
  },
  {
   "cell_type": "code",
   "execution_count": 4,
   "id": "f80257ed-aa4c-41f2-b1e1-167ed388d320",
   "metadata": {},
   "outputs": [],
   "source": [
    "data = load_breast_cancer()"
   ]
  },
  {
   "cell_type": "code",
   "execution_count": 6,
   "id": "b283b59b-1fb6-44d6-ac63-93b4be782dbb",
   "metadata": {},
   "outputs": [],
   "source": [
    "features = data.data\n",
    "labels = data.target\n",
    "\n",
    "features_train, features_test, labels_train, labels_test = train_test_split(features, labels, test_size=0.2, random_state=42)"
   ]
  },
  {
   "cell_type": "markdown",
   "id": "392fadf9-1921-4c8d-bc30-8fbc28b0e249",
   "metadata": {},
   "source": [
    "# Transforms\n",
    "## Using scikit this time "
   ]
  },
  {
   "cell_type": "code",
   "execution_count": 7,
   "id": "11cb3464-a4b7-4ab8-a6ff-807e5db06bbd",
   "metadata": {},
   "outputs": [],
   "source": [
    "scaler = StandardScaler()\n",
    "features_train = scaler.fit_transform(features_train)\n",
    "features_test = scaler.transform(features_test)"
   ]
  },
  {
   "cell_type": "code",
   "execution_count": 8,
   "id": "222a6bca-29a0-4ff4-b572-47152c21a938",
   "metadata": {},
   "outputs": [],
   "source": [
    "features_train = torch.tensor(features_train, dtype=torch.float32).to(device)\n",
    "labels_train = torch.tensor(labels_train, dtype=torch.float32).to(device)\n",
    "features_test = torch.tensor(features_test, dtype=torch.float32).to(device)\n",
    "labels_test = torch.tensor(labels_test, dtype=torch.float32).to(device)"
   ]
  },
  {
   "cell_type": "markdown",
   "id": "b7c5d4a9-87fc-4294-be50-8d2c40b033cf",
   "metadata": {},
   "source": [
    "# Making our Neural Network here"
   ]
  },
  {
   "cell_type": "code",
   "execution_count": 15,
   "id": "bba1d974-06bb-49f1-b4e3-91a89c10bbb0",
   "metadata": {},
   "outputs": [],
   "source": [
    "class BreastCancerNN(nn.Module):\n",
    "    def __init__(self):\n",
    "        super(BreastCancerNN, self).__init__()\n",
    "        self.fc1 = nn.Linear(features_train.shape[1], 64)\n",
    "        self.relu = nn.ReLU()\n",
    "        self.fc2 = nn.Linear(64, 1)\n",
    "        self.sigmoid = nn.Sigmoid()\n",
    "\n",
    "    def forward(self, x):\n",
    "        x = self.fc1(x)\n",
    "        x = self.relu(x)\n",
    "        x = self.fc2(x)\n",
    "        x = self.sigmoid(x)\n",
    "        return x\n"
   ]
  },
  {
   "cell_type": "code",
   "execution_count": 16,
   "id": "582f8728-4fb4-43e5-b0d3-ba003ae2980c",
   "metadata": {},
   "outputs": [],
   "source": [
    "model = BreastCancerNN()"
   ]
  },
  {
   "cell_type": "code",
   "execution_count": 17,
   "id": "8b105a85-710c-4060-86d9-1e65b815261a",
   "metadata": {},
   "outputs": [],
   "source": [
    "loss_fn = nn.BCELoss()\n",
    "optimizer = optim.Adam(model.parameters(), lr=0.001)"
   ]
  },
  {
   "cell_type": "code",
   "execution_count": 20,
   "id": "d3cc0732-6c96-424f-a5ab-28eded3480e0",
   "metadata": {},
   "outputs": [],
   "source": [
    "model.to(device)\n",
    "def train_model(model, num_epochs=117):\n",
    "    # Training loop\n",
    "    for epoch in tqdm(range(num_epochs)):\n",
    "        model.train()\n",
    "        output = model(features_train)\n",
    "        loss = loss_fn(output, labels_train.view(-1, 1))\n",
    "        optimizer.zero_grad()\n",
    "        loss.backward()\n",
    "        optimizer.step()\n",
    "\n",
    "        with torch.no_grad():\n",
    "            pred = output.round()\n",
    "            correct = (pred == labels_train.view(-1,1)).float().sum()\n",
    "            accuracy = correct/labels_train.size(0)\n",
    "\n",
    "        if (epoch+1) % 10 == 0:\n",
    "            print(f\"Epoch [{epoch+1}/{num_epochs}], Loss : {loss.item():.4f}, Accuracy: {accuracy.item() * 100:.2f}%\")"
   ]
  },
  {
   "cell_type": "code",
   "execution_count": 21,
   "id": "40f96a70-cb7a-46d3-845e-5ffc64456c29",
   "metadata": {},
   "outputs": [
    {
     "data": {
      "application/vnd.jupyter.widget-view+json": {
       "model_id": "725d9b744d294105ac60d0e132cb839d",
       "version_major": 2,
       "version_minor": 0
      },
      "text/plain": [
       "  0%|          | 0/117 [00:00<?, ?it/s]"
      ]
     },
     "metadata": {},
     "output_type": "display_data"
    },
    {
     "name": "stdout",
     "output_type": "stream",
     "text": [
      "Epoch [10/117], Loss : 0.5615, Accuracy: 90.11%\n",
      "Epoch [20/117], Loss : 0.4435, Accuracy: 94.51%\n",
      "Epoch [30/117], Loss : 0.3507, Accuracy: 94.51%\n",
      "Epoch [40/117], Loss : 0.2791, Accuracy: 94.95%\n",
      "Epoch [50/117], Loss : 0.2268, Accuracy: 95.38%\n",
      "Epoch [60/117], Loss : 0.1900, Accuracy: 96.04%\n",
      "Epoch [70/117], Loss : 0.1638, Accuracy: 96.70%\n",
      "Epoch [80/117], Loss : 0.1445, Accuracy: 96.48%\n",
      "Epoch [90/117], Loss : 0.1297, Accuracy: 96.70%\n",
      "Epoch [100/117], Loss : 0.1181, Accuracy: 96.92%\n",
      "Epoch [110/117], Loss : 0.1087, Accuracy: 97.36%\n"
     ]
    }
   ],
   "source": [
    "train_model(model)"
   ]
  },
  {
   "cell_type": "code",
   "execution_count": 22,
   "id": "65594656-13ac-40cf-bc79-8775527041b3",
   "metadata": {},
   "outputs": [],
   "source": [
    "model_name=type(model).__name__\n",
    "saved_model = torch.save(model.state_dict(), model_name+'_model.pth')"
   ]
  },
  {
   "cell_type": "code",
   "execution_count": 25,
   "id": "70c31382-c41e-49b2-8bd7-728af1066b14",
   "metadata": {},
   "outputs": [],
   "source": [
    "def test_model(model):\n",
    "    model.eval()\n",
    "    with torch.no_grad():\n",
    "        output = model(features_test)\n",
    "        pred = output.round()\n",
    "        correct = (pred == labels_test.view(-1,1)).float().sum()\n",
    "        accuracy = correct/labels_test.size(0)\n",
    "        print(f\"Accuracy on test data: {accuracy.item() * 100:.2f}%\")"
   ]
  },
  {
   "cell_type": "code",
   "execution_count": 26,
   "id": "a9b4851c-e1c2-4e61-864e-20454a4d4645",
   "metadata": {},
   "outputs": [
    {
     "name": "stdout",
     "output_type": "stream",
     "text": [
      "Accuracy on test data: 98.25%\n"
     ]
    }
   ],
   "source": [
    "test_model(model)"
   ]
  },
  {
   "cell_type": "code",
   "execution_count": null,
   "id": "7852842c-4fc7-4046-8b99-fa04c544bd65",
   "metadata": {},
   "outputs": [],
   "source": []
  }
 ],
 "metadata": {
  "kernelspec": {
   "display_name": "Python 3 (ipykernel)",
   "language": "python",
   "name": "python3"
  },
  "language_info": {
   "codemirror_mode": {
    "name": "ipython",
    "version": 3
   },
   "file_extension": ".py",
   "mimetype": "text/x-python",
   "name": "python",
   "nbconvert_exporter": "python",
   "pygments_lexer": "ipython3",
   "version": "3.12.8"
  }
 },
 "nbformat": 4,
 "nbformat_minor": 5
}
